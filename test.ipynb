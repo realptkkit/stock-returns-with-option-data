{
 "cells": [
  {
   "cell_type": "code",
   "execution_count": 1,
   "metadata": {},
   "outputs": [],
   "source": [
    "from matplotlib import pyplot as plt\n",
    "import pandas as pd\n",
    "import numpy as np\n",
    "import os\n",
    "from utils.oos_metric import r_squared\n",
    "from importlib import reload\n",
    "from utils.window_generator import WindowGenerator\n",
    "%matplotlib inline\n",
    "%load_ext autoreload\n",
    "%autoreload 2"
   ]
  },
  {
   "cell_type": "code",
   "execution_count": 2,
   "metadata": {},
   "outputs": [],
   "source": [
    "path = os.path.join(\"data\", \"preprocessed\",\n",
    "                    \"data_yearly\" + \".csv\")\n"
   ]
  },
  {
   "cell_type": "code",
   "execution_count": 3,
   "metadata": {},
   "outputs": [],
   "source": [
    "data = pd.read_csv(path, index_col=\"date\", parse_dates=[\"date\"])"
   ]
  },
  {
   "cell_type": "code",
   "execution_count": 4,
   "metadata": {},
   "outputs": [],
   "source": [
    "data.sort_values(by=\"date\", inplace=True)"
   ]
  },
  {
   "cell_type": "code",
   "execution_count": 59,
   "metadata": {},
   "outputs": [
    {
     "name": "stdout",
     "output_type": "stream",
     "text": [
      "1996-01-31 00:00:00 2020-06-30 00:00:00 range(1996, 2021)\n"
     ]
    },
    {
     "data": {
      "text/plain": [
       "25"
      ]
     },
     "execution_count": 59,
     "metadata": {},
     "output_type": "execute_result"
    }
   ],
   "source": [
    "start_date =  min(data.index)\n",
    "end_date = max(data.index)\n",
    "years = range(start_date.year, end_date.year+1)\n",
    "print(start_date, end_date, years)\n",
    "years = [y for y in years]\n",
    "len(years)"
   ]
  },
  {
   "cell_type": "code",
   "execution_count": 4,
   "metadata": {},
   "outputs": [],
   "source": [
    "labels = [\"theory_eret\", \"target_eret\"]\n",
    "features = data.columns"
   ]
  },
  {
   "cell_type": "code",
   "execution_count": 6,
   "metadata": {},
   "outputs": [],
   "source": [
    "from utils.window_generator import WindowGenerator\n",
    "wg1 = WindowGenerator(data=data, labels=labels, features=features)"
   ]
  },
  {
   "cell_type": "code",
   "execution_count": 19,
   "metadata": {},
   "outputs": [
    {
     "data": {
      "text/plain": [
       "date\n",
       "1996-01-31   -0.637938\n",
       "1996-02-29   -0.500436\n",
       "1996-03-29   -0.733739\n",
       "1996-04-30   -0.782915\n",
       "1996-05-31   -0.616979\n",
       "1996-06-28   -0.532722\n",
       "1996-07-31   -0.594598\n",
       "1996-08-30   -0.694828\n",
       "1996-09-30   -0.816554\n",
       "1996-10-31   -0.581809\n",
       "1996-11-29   -0.814316\n",
       "1996-12-31   -0.723916\n",
       "1997-01-31   -0.585775\n",
       "1997-02-28   -0.694298\n",
       "1997-03-31   -0.571986\n",
       "Name: f_ind_M10_P, dtype: float64"
      ]
     },
     "execution_count": 19,
     "metadata": {},
     "output_type": "execute_result"
    }
   ],
   "source": [
    "import tensorflow as tf\n",
    "X_train = data.iloc[:15, 1]\n",
    "X_train"
   ]
  },
  {
   "cell_type": "code",
   "execution_count": 22,
   "metadata": {},
   "outputs": [
    {
     "data": {
      "text/plain": [
       "<FlatMapDataset shapes: <unknown>, types: tf.float32>"
      ]
     },
     "execution_count": 22,
     "metadata": {},
     "output_type": "execute_result"
    }
   ],
   "source": [
    "X_train = tf.data.Dataset.from_generator(\n",
    "    lambda: X_train,\n",
    "    output_types=tf.float32\n",
    ")\n",
    "X_train"
   ]
  },
  {
   "cell_type": "code",
   "execution_count": 73,
   "metadata": {},
   "outputs": [
    {
     "name": "stdout",
     "output_type": "stream",
     "text": [
      "False\n"
     ]
    },
    {
     "data": {
      "text/plain": [
       "\n",
       "        evaluation_start: 2016-01-01 00:00:00\n",
       "        testing_start: 2021-01-01 00:00:00\n",
       "        testing_end: 2021-12-31 00:00:00\n",
       "        "
      ]
     },
     "execution_count": 73,
     "metadata": {},
     "output_type": "execute_result"
    }
   ],
   "source": [
    "wg1.update_dates()\n",
    "print(wg1.data_available())\n",
    "wg1"
   ]
  },
  {
   "cell_type": "code",
   "execution_count": 74,
   "metadata": {},
   "outputs": [
    {
     "name": "stdout",
     "output_type": "stream",
     "text": [
      "            theory_eret  target_eret\n",
      "date                                \n",
      "2015-12-31     0.042638     0.224114\n",
      "2015-12-31     0.035782    -0.081582\n",
      "Empty DataFrame\n",
      "Columns: [theory_eret, target_eret]\n",
      "Index: []\n"
     ]
    }
   ],
   "source": [
    "y_train = wg1.split()[1]\n",
    "y_test = wg1.split()[5]\n",
    "print(y_train.tail(2))\n",
    "print(y_test.tail(2))"
   ]
  },
  {
   "cell_type": "code",
   "execution_count": null,
   "metadata": {},
   "outputs": [],
   "source": [
    "theory_eret = data[\"theory_eret\"]\n",
    "plt.plot(theory_eret.iloc[:5], linestyle = 'dotted')\n",
    "#plt.plot(data[\"target_eret\"], linestyle = 'dotted')\n",
    "plt.show()\n",
    "\n"
   ]
  },
  {
   "cell_type": "code",
   "execution_count": null,
   "metadata": {},
   "outputs": [],
   "source": [
    "predictions_theory = data[\"theory_eret\"]\n",
    "y_test = data[\"target_eret\"]"
   ]
  },
  {
   "cell_type": "code",
   "execution_count": null,
   "metadata": {},
   "outputs": [],
   "source": [
    "oss_theory, _ , _ = r_squared(\n",
    "        target_returns = y_test,\n",
    "        predictions = predictions_theory\n",
    "    )\n"
   ]
  },
  {
   "cell_type": "code",
   "execution_count": 76,
   "metadata": {},
   "outputs": [
    {
     "data": {
      "text/plain": [
       "[1, 4, 5, 1, 2, 3, 4]"
      ]
     },
     "execution_count": 76,
     "metadata": {},
     "output_type": "execute_result"
    }
   ],
   "source": [
    "li = [1, 2, 3, 4]\n",
    "lb = [1, 4,5] + li\n",
    "lb"
   ]
  }
 ],
 "metadata": {
  "interpreter": {
   "hash": "589b229a7a2da4842a22493b1855ad1acf9b735ddcabcdfc41fd4915e5b5a01b"
  },
  "kernelspec": {
   "display_name": "Python 3.9.12 ('stockPy')",
   "language": "python",
   "name": "python3"
  },
  "language_info": {
   "codemirror_mode": {
    "name": "ipython",
    "version": 3
   },
   "file_extension": ".py",
   "mimetype": "text/x-python",
   "name": "python",
   "nbconvert_exporter": "python",
   "pygments_lexer": "ipython3",
   "version": "3.9.12"
  },
  "orig_nbformat": 4
 },
 "nbformat": 4,
 "nbformat_minor": 2
}
